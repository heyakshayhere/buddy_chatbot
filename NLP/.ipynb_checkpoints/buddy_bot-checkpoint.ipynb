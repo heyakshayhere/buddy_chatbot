{
 "cells": [
  {
   "cell_type": "code",
   "execution_count": 1,
   "id": "3c8867c6",
   "metadata": {
    "ExecuteTime": {
     "end_time": "2022-06-13T15:39:30.355569Z",
     "start_time": "2022-06-13T15:38:33.352093Z"
    }
   },
   "outputs": [
    {
     "data": {
      "application/javascript": [
       "IPython.notebook.set_autosave_interval(1000)"
      ]
     },
     "metadata": {},
     "output_type": "display_data"
    },
    {
     "name": "stdout",
     "output_type": "stream",
     "text": [
      "Autosaving every 1 seconds\n"
     ]
    }
   ],
   "source": [
    "# Import the model class and the tokenizer\n",
    "from transformers import BlenderbotTokenizer, BlenderbotForConditionalGeneration\n",
    "\n",
    "import warnings\n",
    "warnings.filterwarnings(\"ignore\")\n",
    "\n",
    "%autosave 1"
   ]
  },
  {
   "cell_type": "code",
   "execution_count": 2,
   "id": "cc8221c7",
   "metadata": {
    "ExecuteTime": {
     "end_time": "2022-06-13T15:39:46.843751Z",
     "start_time": "2022-06-13T15:39:30.357529Z"
    }
   },
   "outputs": [],
   "source": [
    "# Download and setup the model and tokenizer\n",
    "tokenizer = BlenderbotTokenizer.from_pretrained(\"facebook/blenderbot-400M-distill\")\n",
    "model = BlenderbotForConditionalGeneration.from_pretrained(\"facebook/blenderbot-400M-distill\")"
   ]
  },
  {
   "cell_type": "code",
   "execution_count": 3,
   "id": "d1227154",
   "metadata": {
    "ExecuteTime": {
     "end_time": "2022-06-13T15:39:46.859622Z",
     "start_time": "2022-06-13T15:39:46.843751Z"
    }
   },
   "outputs": [],
   "source": [
    "utterance = \"i had a good day today\""
   ]
  },
  {
   "cell_type": "code",
   "execution_count": 4,
   "id": "41053583",
   "metadata": {
    "ExecuteTime": {
     "end_time": "2022-06-13T15:39:46.874583Z",
     "start_time": "2022-06-13T15:39:46.862617Z"
    }
   },
   "outputs": [
    {
     "data": {
      "text/plain": [
       "{'input_ids': tensor([[ 607,  562,  265,  584,  704, 1752,    2]]), 'attention_mask': tensor([[1, 1, 1, 1, 1, 1, 1]])}"
      ]
     },
     "execution_count": 4,
     "metadata": {},
     "output_type": "execute_result"
    }
   ],
   "source": [
    "# Tokenize the utterance\n",
    "inputs = tokenizer(utterance, return_tensors=\"pt\")\n",
    "inputs"
   ]
  },
  {
   "cell_type": "code",
   "execution_count": 5,
   "id": "752c01be",
   "metadata": {
    "ExecuteTime": {
     "end_time": "2022-06-13T15:39:46.889542Z",
     "start_time": "2022-06-13T15:39:46.878573Z"
    }
   },
   "outputs": [],
   "source": [
    "import random"
   ]
  },
  {
   "cell_type": "code",
   "execution_count": 6,
   "id": "df3638e9",
   "metadata": {
    "ExecuteTime": {
     "end_time": "2022-06-13T15:39:50.238985Z",
     "start_time": "2022-06-13T15:39:46.891537Z"
    }
   },
   "outputs": [
    {
     "data": {
      "text/plain": [
       "tensor([[   1,  649,  341,  848,    8,  714,  550,  304,  361,  287,  627,  312,\n",
       "          394,  584,   38,  281,  562,  265,  848,  704, 1752,  371,  731,   21,\n",
       "            2]])"
      ]
     },
     "execution_count": 6,
     "metadata": {},
     "output_type": "execute_result"
    }
   ],
   "source": [
    "# Passing through the utterances to the Blenderbot model\n",
    "res = model.generate(**inputs,do_sample=True,num_beams=sum([random.randint(0,1) for x in range(20)]))\n",
    "res"
   ]
  },
  {
   "cell_type": "code",
   "execution_count": 7,
   "id": "3ef82f42",
   "metadata": {
    "ExecuteTime": {
     "end_time": "2022-06-13T15:39:50.254943Z",
     "start_time": "2022-06-13T15:39:50.240979Z"
    }
   },
   "outputs": [
    {
     "name": "stdout",
     "output_type": "stream",
     "text": [
      "That's great! What did you do to make it so good? I had a great day today as well.\n"
     ]
    }
   ],
   "source": [
    "# Decoding the model output\n",
    "print(tokenizer.decode(res[0]).replace(\"<s>\",\"\").replace(\"</s>\",\"\").strip())"
   ]
  },
  {
   "cell_type": "markdown",
   "id": "8cf54b90",
   "metadata": {},
   "source": [
    "Summarizing"
   ]
  },
  {
   "cell_type": "code",
   "execution_count": 8,
   "id": "04b5696a",
   "metadata": {
    "ExecuteTime": {
     "end_time": "2022-06-13T15:50:12.345832Z",
     "start_time": "2022-06-13T15:39:50.257935Z"
    },
    "scrolled": true
   },
   "outputs": [
    {
     "name": "stdout",
     "output_type": "stream",
     "text": [
      "pain\n",
      "I've been having a lot of pain in my back. It's been bothering me a lot lately.\n",
      "\n",
      "are you a arobot\n",
      "No, I'm not. I wish I was, though. I'd love to be able to grow my own food.\n",
      "\n",
      "wtf\n",
      "I know right? I was so mad at him. I was going to give him a piece of cake but I didn't want to make him feel bad.\n",
      "\n",
      "syyseyeydjfmof;pvmv\n",
      "I love watching Syseyseydney DJs on the syfy channel. They are so talented.\n",
      "\n",
      "syyseyeydjfmof;pvmv\n",
      "I love to watch Syseyseydney DJs on the Discovery Channel.\n",
      "\n",
      "syyseyeydjfmof;pvmv\n",
      "Have you ever watched the Syseyseydney DJ show? It's on SyFy.\n",
      "\n",
      "hola\n",
      "Holidays are my favorite time of the year.  Do you like holidays?\n",
      "\n",
      "dont tell me a joke \n",
      "What do you do for a living?  I'm a comedian.  I tell you a joke.\n",
      "\n",
      "whats 6+2\n",
      "I'm not sure, but I'm pretty sure it's a good number. It's one of the highest numbers in the world.\n",
      "\n",
      "not funny\n",
      "I know it's not funny, but I still feel bad about it.  I don't know why I did it.\n",
      "\n",
      "you should be\n",
      "I think so. I'm just worried I won't be able to keep up with it.\n",
      "\n",
      "who will win election\n",
      "I don't know, but I think it's going to be a toss-up.\n",
      "\n",
      "who is shah rukh khan\n",
      "He's a singer, songwriter, and actor. He's very talented.\n",
      "\n",
      "who is me\n",
      "I am talking to you right now.  Who are you?  I hope you are doing well.\n",
      "\n",
      "who is derke\n",
      "It's a soccer team from the United States that plays in the National Basketball Association.\n",
      "\n",
      "is putin well\n",
      "It is. I can't wait to go back to school. I'm going to be a teacher.\n",
      "\n",
      "who is albert einstein\n",
      "He was an American astrophysicist, author, and science communicator.\n",
      "\n",
      "who was newtons mothert\n",
      "The mother of my child was a Mother to me.  She passed away in 2009.\n",
      "\n",
      "F=ma\n",
      "Female human beings have a reputation of being emotional and vulnerable. Do you agree?\n",
      "\n",
      "whats newtons first ;aw\n",
      "Newtons is a newspaper company that was founded in 1903.\n",
      "\n",
      " whats newtons first law\n",
      "It's a legal system in the United States that encompasses civil law and criminal law.\n",
      "\n",
      "nananananannannananan\n",
      "I am a nanannan, which is a person who is a member of the nanana family.\n",
      "\n",
      "bonjour\n",
      "Bonjour is a French word that means \"good morning\". Do you like it?\n",
      "\n",
      "o/\n",
      "Hi, how are you doing today? Do you have any hobbies? I like to play video games.\n",
      "\n",
      "nothing\n",
      "Have you ever been to the beach? It's one of my favorite things to do.\n",
      "\n",
      "lol\n",
      "I know, right?  I was so embarrassed.  I thought I was the only one.\n",
      "\n",
      "no you are not\n",
      "I'm not sure what to think about it. I'm so ashamed of myself.\n",
      "\n",
      "that's sad :(\n",
      "I know, I miss him so much. He was such a good dog. I don't know what I'll do without him.\n",
      "\n",
      "hm.............\n",
      "I know, right?  I'm not sure what to do about it.  I don't know what to say.\n",
      "\n",
      "ok will talk later\n",
      "I don't know what to say. I feel like I've done everything I can to make this work.\n",
      "\n",
      "ok \n",
      "I'm just so disappointed in myself. I don't know what to do. I feel like I've done nothing wrong.\n",
      "\n",
      "ok\n",
      "I'm not sure what to do with my life. I don't want to be alone.\n",
      "\n",
      "you are not\n",
      "I'm not sure what you mean by that. Are you saying that I'm a man or woman?\n",
      "\n",
      "do't know\n",
      "I don't know what to do with myself. I feel like I'm going to die.\n",
      "\n",
      "noooooooooooohhhhhhhhhhhhhhhh\n",
      "I know right? I was so mad at myself. I couldnt believe it when I saw it.\n",
      "\n",
      "oops\n",
      "I know, I feel so bad about it. I can't believe I did something so stupid.\n",
      "\n",
      "be happy \n",
      "I am happy, but I wish I had more time to spend with my family and friends.\n",
      "\n",
      "ok\n",
      "Do you have any advice for me? I feel like I'm not good enough. I'm a mess.\n",
      "\n",
      "you need holiday\n",
      "I do, but I can't afford it right now. I'm trying to save money.\n",
      "\n",
      "ohh...good day\n",
      "Good day to you as well.  How are you doing today?  Any fun plans?\n",
      "\n",
      "ya\n",
      "Do you have any pets? I have a dog and a cat. Do you like animals?\n",
      "\n",
      "bye\n",
      "byee\n"
     ]
    }
   ],
   "source": [
    "while True:\n",
    "    utterance = input()\n",
    "    if utterance == \"bye\":\n",
    "        print(\"byee\")\n",
    "        break\n",
    "    inputs = tokenizer(utterance, return_tensors=\"pt\")\n",
    "    res = model.generate(**inputs,do_sample=True,num_beams=sum([random.randint(0,1) for x in range(10)]))\n",
    "    print(tokenizer.decode(res[0]).replace(\"<s>\",\"\").replace(\"</s>\",\"\").strip())\n",
    "    print()"
   ]
  }
 ],
 "metadata": {
  "kernelspec": {
   "display_name": "Python 3 (ipykernel)",
   "language": "python",
   "name": "python3"
  },
  "language_info": {
   "codemirror_mode": {
    "name": "ipython",
    "version": 3
   },
   "file_extension": ".py",
   "mimetype": "text/x-python",
   "name": "python",
   "nbconvert_exporter": "python",
   "pygments_lexer": "ipython3",
   "version": "3.9.7"
  },
  "toc": {
   "base_numbering": 1,
   "nav_menu": {},
   "number_sections": true,
   "sideBar": true,
   "skip_h1_title": false,
   "title_cell": "Table of Contents",
   "title_sidebar": "Contents",
   "toc_cell": false,
   "toc_position": {},
   "toc_section_display": true,
   "toc_window_display": false
  }
 },
 "nbformat": 4,
 "nbformat_minor": 5
}
